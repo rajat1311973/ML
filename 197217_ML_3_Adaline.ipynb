{
  "nbformat": 4,
  "nbformat_minor": 0,
  "metadata": {
    "colab": {
      "provenance": []
    },
    "kernelspec": {
      "name": "python3",
      "display_name": "Python 3"
    },
    "language_info": {
      "name": "python"
    }
  },
  "cells": [
    {
      "cell_type": "code",
      "execution_count": 1,
      "metadata": {
        "colab": {
          "base_uri": "https://localhost:8080/"
        },
        "id": "-08C7WRXwl6r",
        "outputId": "cb6d070f-c098-4b2b-e700-06d2dae1e171"
      },
      "outputs": [
        {
          "output_type": "stream",
          "name": "stdout",
          "text": [
            "4.2081599999999995 [5 5]\n",
            "AND(0, 1) = 9.20816\n",
            "AND(1, 1) = 14.20816\n",
            "AND(0, 0) = 4.2081599999999995\n",
            "AND(1, 0) = 9.20816\n"
          ]
        }
      ],
      "source": [
        "import numpy as np\n",
        "\n",
        "def adalineModel(x, t, w, b, l):\n",
        "    v = np.dot(w, x) + b\n",
        "    y = v\n",
        "    b1=(l*(t-y))\n",
        "    w1=w\n",
        "    #print(x,t,y)\n",
        "    for i in range(0,len(w)):\n",
        "      w1[i]=l*(t-y)*x[i]\n",
        "    return w1,b1\n",
        "\n",
        "def AND_logicFunction_train(w0, b0, epochs, l):\n",
        "  w=w0\n",
        "  b=b0\n",
        "  for i in range(0,epochs):\n",
        "    #print(w,b)\n",
        "    w1,b1=adalineModel([0,0], 0, w, b, l)\n",
        "    w2,b2=adalineModel([0,1], 0, w, b, l)\n",
        "    w3,b3=adalineModel([1,0], 0, w, b, l)\n",
        "    w4,b4=adalineModel([1,1], 1, w, b, l)\n",
        "    w=w+w1+w2+w3+w4\n",
        "    b=b1+b2+b3+b4\n",
        "  return w,b\n",
        "\n",
        "def AND_logicFunction(x,w,b):\n",
        "    v = np.dot(w, x) + b\n",
        "    return v\n",
        "\n",
        "epochs=5\n",
        "l= 0.3\n",
        "w = np.array([1, 1])\n",
        "b = -1.5\n",
        "w,b=AND_logicFunction_train(w, b, epochs, l)\n",
        "\n",
        "test1 = np.array([0, 1])\n",
        "test2 = np.array([1, 1])\n",
        "test3 = np.array([0, 0])\n",
        "test4 = np.array([1, 0])\n",
        "print(b,w)\n",
        "print(\"AND({}, {}) = {}\".format(0, 1, AND_logicFunction(test1,w,b)))\n",
        "print(\"AND({}, {}) = {}\".format(1, 1, AND_logicFunction(test2,w,b)))\n",
        "print(\"AND({}, {}) = {}\".format(0, 0, AND_logicFunction(test3,w,b)))\n",
        "print(\"AND({}, {}) = {}\".format(1, 0, AND_logicFunction(test4,w,b)))"
      ]
    },
    {
      "cell_type": "code",
      "source": [
        "import numpy as np\n",
        "\n",
        "def adalineModel(x, t, w, b, l):\n",
        "    v = np.dot(w, x) + b\n",
        "    y = v\n",
        "    b1=(l*(t-y))\n",
        "    w1=w\n",
        "    #print(x,t,y)\n",
        "    for i in range(0,len(w)):\n",
        "      w1[i]=(l*(t-y)*x[i])\n",
        "    return w1,b1\n",
        "\n",
        "def OR_logicFunction_train(w0, b0, epochs, l):\n",
        "  w=w0\n",
        "  b=b0\n",
        "  for i in range(0,epochs):\n",
        "    #print(w,b)\n",
        "    w1,b1=adalineModel([0,0], 0, w, b, l)\n",
        "    w2,b2=adalineModel([0,1], 1, w, b, l)\n",
        "    w3,b3=adalineModel([1,0], 1, w, b, l)\n",
        "    w4,b4=adalineModel([1,1], 1, w, b, l)\n",
        "    w=w+w1+w2+w3+w4\n",
        "    b=b1+b2+b3+b4\n",
        "  return w,b\n",
        "\n",
        "def OR_logicFunction(x,w,b):\n",
        "    v = np.dot(w, x) + b\n",
        "    return v\n",
        "\n",
        "epochs=5\n",
        "l=0.3\n",
        "w = np.array([1, 1])\n",
        "b = -1.5\n",
        "w,b=OR_logicFunction_train(w, b, epochs, l)\n",
        "\n",
        "test1 = np.array([0, 1])\n",
        "test2 = np.array([1, 1])\n",
        "test3 = np.array([0, 0])\n",
        "test4 = np.array([1, 0])\n",
        "print(b,w)  \n",
        "print(\"OR({}, {}) = {}\".format(0, 1, OR_logicFunction(test1,w,b)))\n",
        "print(\"OR({}, {}) = {}\".format(1, 1, OR_logicFunction(test2,w,b)))\n",
        "print(\"OR({}, {}) = {}\".format(0, 0, OR_logicFunction(test3,w,b)))\n",
        "print(\"OR({}, {}) = {}\".format(1, 0, OR_logicFunction(test4,w,b)))"
      ],
      "metadata": {
        "colab": {
          "base_uri": "https://localhost:8080/"
        },
        "id": "ep0VgoDL4qVh",
        "outputId": "7134d7fb-9c3b-4d1b-ac59-6adbad81be07"
      },
      "execution_count": 2,
      "outputs": [
        {
          "output_type": "stream",
          "name": "stdout",
          "text": [
            "4.4275199999999995 [0 0]\n",
            "OR(0, 1) = 4.4275199999999995\n",
            "OR(1, 1) = 4.4275199999999995\n",
            "OR(0, 0) = 4.4275199999999995\n",
            "OR(1, 0) = 4.4275199999999995\n"
          ]
        }
      ]
    },
    {
      "cell_type": "code",
      "source": [
        "import numpy as np\n",
        "\n",
        "def adalineModel(x, t, w, b, l):\n",
        "    v = np.dot(w, x) + b\n",
        "    b1=(l*(t-v))\n",
        "    w1=w\n",
        "    #print(x,t,y)\n",
        "    for i in range(0,len(w)):\n",
        "      w1[i]=(l*(t-v)*x[i])\n",
        "    return w1,b1\n",
        "\n",
        "def XNOR_logicFunction_train(w0, b0, epochs, l):\n",
        "  w=w0\n",
        "  b=b0\n",
        "  for i in range(0,epochs):\n",
        "    #print(w,b)\n",
        "    w1,b1=adalineModel([0,0], 1, w, b, l)\n",
        "    w2,b2=adalineModel([0,1], 0, w, b, l)\n",
        "    w3,b3=adalineModel([1,0], 0, w, b, l)\n",
        "    w4,b4=adalineModel([1,1], 1, w, b, l)\n",
        "    w=w+w1+w2+w3+w4\n",
        "    b=b1+b2+b3+b4\n",
        "  return w,b\n",
        "\n",
        "def XNOR_logicFunction(x,w,b):\n",
        "    v = np.dot(w, x) + b\n",
        "    return v\n",
        "\n",
        "epochs=5\n",
        "l=0.3\n",
        "w = np.array([1,1])\n",
        "b = -1.5\n",
        "w,b=XNOR_logicFunction_train(w, b, epochs, l)\n",
        "\n",
        "test1 = np.array([0, 1])\n",
        "test2 = np.array([1, 1])\n",
        "test3 = np.array([0, 0])\n",
        "test4 = np.array([1, 0])\n",
        "print(b,w)\n",
        "print(\"XNOR({}, {}) = {}\".format(0, 1, XNOR_logicFunction(test1,w,b)))\n",
        "print(\"XNOR({}, {}) = {}\".format(1, 1, XNOR_logicFunction(test2,w,b)))\n",
        "print(\"XNOR({}, {}) = {}\".format(0, 0, XNOR_logicFunction(test3,w,b)))\n",
        "print(\"XNOR({}, {}) = {}\".format(1, 0, XNOR_logicFunction(test4,w,b)))"
      ],
      "metadata": {
        "colab": {
          "base_uri": "https://localhost:8080/"
        },
        "id": "i053l0px4rfD",
        "outputId": "c40d8d54-b22d-45c3-d9b0-473ee0c84fb9"
      },
      "execution_count": 3,
      "outputs": [
        {
          "output_type": "stream",
          "name": "stdout",
          "text": [
            "4.323839999999999 [5 5]\n",
            "XNOR(0, 1) = 9.323839999999999\n",
            "XNOR(1, 1) = 14.323839999999999\n",
            "XNOR(0, 0) = 4.323839999999999\n",
            "XNOR(1, 0) = 9.323839999999999\n"
          ]
        }
      ]
    }
  ]
}