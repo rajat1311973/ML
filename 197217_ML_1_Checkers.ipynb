{
  "nbformat": 4,
  "nbformat_minor": 0,
  "metadata": {
    "colab": {
      "provenance": []
    },
    "kernelspec": {
      "name": "python3",
      "display_name": "Python 3"
    },
    "language_info": {
      "name": "python"
    }
  },
  "cells": [
    {
      "cell_type": "code",
      "source": [
        "#creating the matrix\n",
        "def create_matrix():\n",
        "  M = np.zeros([8,8] , dtype = int)\n",
        "  for i in range(3):\n",
        "   start_pos = i%2\n",
        "   for j in range(start_pos,8,2):\n",
        "     M[i][j]=1\n",
        "    \n",
        "  for i in range(5,8):\n",
        "    start_pos = i%2\n",
        "    for j in range(start_pos,8,2):\n",
        "      M[i][j]=2\n",
        "  \n",
        "  return M"
      ],
      "metadata": {
        "id": "q6RtqrcOoZNP"
      },
      "execution_count": 1,
      "outputs": []
    },
    {
      "cell_type": "code",
      "source": [
        "import numpy as np\n",
        "# calculating each feature value of a board state for a target function\n",
        "def feature_list(M):\n",
        "  X = np.zeros(7,dtype = float)\n",
        "  X[0] = 1\n",
        "\n",
        "  for i in range(8):\n",
        "    for j in range(8):\n",
        "      if M[i][j]==1 or M[i][j]==3:\n",
        "        if M[i][j]==1:\n",
        "          X[1]+=1\n",
        "        else :\n",
        "          X[3]+=1\n",
        "        \n",
        "        if i+1 < 8 and j-1 >= 0 and ( M[i+1][j-1]==2 or M[i+1][j-1]==4) and i-1 >= 0 and j+1 < 8 and M[i-1][j+1]==0:\n",
        "          X[6]+=1\n",
        "        elif i+1 < 8 and j+1 < 8 and ( M[i+1][j+1]==2 or M[i+1][j+1]==4) and i-1 >= 0 and j-1 >= 0 and M[i-1][j-1]==0:\n",
        "          X[6]+=1\n",
        "        elif i-1 >= 0 and j+1 < 8 and M[i-1][j+1]==4 and i+1 < 8 and j-1 >= 0 and M[i+1][j-1]==0:\n",
        "          X[6]+=1\n",
        "        elif i-1 >= 0 and j-1 >= 0 and M[i-1][j-1]==4 and i+1 < 8 and j+1 < 8 and M[i+1][j+1]==0:\n",
        "          X[6]+=1\n",
        "\n",
        "      if M[i][j]==2 or M[i][j]==4:\n",
        "        if M[i][j]==2:\n",
        "          X[2]+=1\n",
        "        else :\n",
        "          X[4]+=1\n",
        "        \n",
        "        if i-1 >= 0 and j-1 >= 0 and ( M[i-1][j-1]==1 or M[i-1][j-1]==3) and i+1 < 8 and j+1 < 8 and M[i+1][j+1]==0:\n",
        "          X[5]+=1\n",
        "        elif i-1 >= 0 and j+1 < 8 and ( M[i-1][j+1]==1 or M[i-1][j+1]==3) and i+1 < 8 and j-1 >= 0 and M[i+1][j-1]==0:\n",
        "          X[5]+=1\n",
        "        elif i+1 < 8 and j+1 < 8 and M[i+1][j+1]==3 and i-1 >= 0 and j-1 >= 0 and M[i-1][j-1]==0:\n",
        "          X[5]+=1\n",
        "        elif i+1 < 8 and j-1 >= 0 and M[i+1][j-1]==3 and i-1 >= 0 and j+1 < 8 and M[i-1][j+1]==0:\n",
        "          X[5]+=1\n",
        "  \n",
        "  return X\n"
      ],
      "metadata": {
        "id": "957ltdlNyJX-"
      },
      "execution_count": 2,
      "outputs": []
    },
    {
      "cell_type": "code",
      "source": [
        " #Function to calculate Score\n",
        "def total_score(W,M):\n",
        "  X = feature_list(M)\n",
        "  sum = 0\n",
        "  for i in range(7):\n",
        "    sum += W[i]*X[i]\n",
        "  return sum"
      ],
      "metadata": {
        "id": "El7l6DbTbEOK"
      },
      "execution_count": 3,
      "outputs": []
    },
    {
      "cell_type": "code",
      "source": [
        "def check_allzero(M):\n",
        "  iszero = 1\n",
        "\n",
        "  for i in range(8):\n",
        "    for j in range(8):\n",
        "      if M[i][j] != 0:\n",
        "        iszero = 0\n",
        "        return iszero\n",
        "  \n",
        "  return iszero"
      ],
      "metadata": {
        "id": "pFw-T0_rU7tv"
      },
      "execution_count": 4,
      "outputs": []
    },
    {
      "cell_type": "code",
      "source": [
        "def choose_move(ans,M,W):\n",
        "\n",
        "  iszero = check_allzero(ans)\n",
        "  if iszero == 0 :\n",
        "    x1 = total_score(W,ans)\n",
        "    x2 = total_score(W,M)\n",
        "\n",
        "    if x2 > x1 :\n",
        "      for i in range(8):\n",
        "        for j in range(8):\n",
        "          ans[i][j]=M[i][j]\n",
        "  else :\n",
        "    for i in range(8):\n",
        "      for j in range(8):\n",
        "        ans[i][j]=M[i][j]"
      ],
      "metadata": {
        "id": "xSV0bMKIBJuk"
      },
      "execution_count": 5,
      "outputs": []
    },
    {
      "cell_type": "code",
      "source": [
        "def best_move(x,j,temp,ans,W,l,dir):\n",
        "\n",
        "  if x==0 and temp[x][j]==2 :\n",
        "    temp[x][j]=4\n",
        "  if x==7 and temp[x][j]==1 :\n",
        "    temp[x][j]=3\n",
        "  if dir == 1:\n",
        "     choose_move(ans,temp,W)\n",
        "  else :\n",
        "        l.append(temp)"
      ],
      "metadata": {
        "id": "0Hd0JuWWs1Mr"
      },
      "execution_count": 6,
      "outputs": []
    },
    {
      "cell_type": "code",
      "source": [
        "\n",
        "def killing_move(M , i , j , W ,dir,p, ans,l):\n",
        "  \n",
        "  x1 = i + dir*1\n",
        "  x2 = i + dir*2\n",
        "\n",
        "  opp1 = 2 if dir == 1 else 1\n",
        "  opp2 = 4 if dir == 1 else 3\n",
        "\n",
        "  if x2 < 8 and x2 > 0 and j-2 >=0 and ( M[x1][j-1]==opp1 or M[x1][j-1] == opp2) and M[x2][j-2] == 0:\n",
        "      temp = M.copy()\n",
        "      temp[i][j]=temp[x1][j-1]=0\n",
        "      temp[x2][j-2]=M[i][j]\n",
        "      best_move(x2,j-2,temp,ans,W,l,dir)\n",
        "      killing_move(temp,x2,j-2,W,dir,p,ans,l)\n",
        "    \n",
        "  if x2<8 and x2 >= 0 and j+2<8 and (M[x1][j+1]==opp1 or M[x1][j+1]==opp2) and M[x2][j+2]==0:\n",
        "      temp = M.copy()\n",
        "      temp[i][j]=temp[x1][j+1] = 0\n",
        "      temp[x2][j+2]=M[i][j]\n",
        "      choose_move(ans,temp,W)\n",
        "      best_move(x2,j+2,temp,ans,W,l,dir)\n",
        "      killing_move(temp,x2,j+2,W,dir,p,ans,l)\n",
        "\n",
        "  if M[i][j]==p+2:\n",
        "\n",
        "    x1 = i - dir*1\n",
        "    x2 = i - dir*2\n",
        "\n",
        "    if x2 < 8 and x2 > 0 and j-2 >=0 and ( M[x1][j-1]==opp1 or M[x1][j-1] == opp2) and M[x2][j-2] == 0:\n",
        "      temp = M.copy()\n",
        "      temp[i][j]=temp[x1][j-1]=0\n",
        "      temp[x2][j-2]=M[i][j]\n",
        "      best_move(x2,j-2,temp,ans,W,l,dir)\n",
        "      killing_move(temp,x2,j-2,W,dir,p,ans,l)\n",
        "    \n",
        "  if x2<8 and x2 >= 0 and j+2<8 and (M[x1][j+1]==opp1 or M[x1][j+1]==opp2) and M[x2][j+2]==0:\n",
        "      temp = M.copy()\n",
        "      temp[i][j]=temp[x1][j+1] = 0\n",
        "      temp[x2][j+2]=M[i][j]\n",
        "      best_move(x2,j+2,temp,ans,W,l,dir)\n",
        "      killing_move(temp,x2,j+2,W,dir,p,ans,l)\n",
        "\n"
      ],
      "metadata": {
        "id": "8KtsQnedXZ_a"
      },
      "execution_count": 7,
      "outputs": []
    },
    {
      "cell_type": "code",
      "source": [
        "def normal_move(M,i,j,W,dir,p,ans,l):\n",
        "  \n",
        "  x1 = i + dir*1\n",
        "  x2 = i - dir*1\n",
        "\n",
        "  if x1 < 8 and x1 >= 0 and j-1 >=0 and M[x1][j-1]==0:\n",
        "    temp = M.copy()\n",
        "    temp[i][j]=0\n",
        "    temp[x1][j-1]=M[i][j]\n",
        "    best_move(x1,j-1,temp,ans,W,l,dir)\n",
        "    \n",
        "  if x1<8 and x1>=0 and j+1<8 and M[x1][j+1]==0:\n",
        "    temp = M.copy()\n",
        "    temp[i][j]=0\n",
        "    temp[x1][j+1]=M[i][j]\n",
        "    best_move(x1,j+1,temp,ans,W,l,dir)\n",
        "\n",
        "  if x2>=0 and x2 < 8 and j+1<8 and M[i][j]==p+2 and M[x2][j+1]==0:\n",
        "    temp = M.copy()\n",
        "    temp[i][j]=0\n",
        "    temp[x2][j+1]=M[i][j]\n",
        "    best_move(x2,j+1,temp,ans,W,l,dir)\n",
        "\n",
        "  if x2>=0 and x2 < 8 and j-1>=0 and M[i][j]==p+2 and M[x2][j-1]==0:\n",
        "    temp = M.copy()\n",
        "    temp[i][j]=0\n",
        "    temp[x2][j-1]=M[i][j]\n",
        "    best_move(x2,j-1,temp,ans,W,l,dir)"
      ],
      "metadata": {
        "id": "fMzNSlFe36s4"
      },
      "execution_count": 8,
      "outputs": []
    },
    {
      "cell_type": "code",
      "source": [
        "def program_move(M,W):\n",
        " \n",
        " ans = np.zeros([8,8], dtype = int)\n",
        " l=[]\n",
        "\n",
        " for i in range(8):\n",
        "   for j in range(8):\n",
        "     if M[i][j]!=1 and M[i][j]!=3:\n",
        "       continue\n",
        "     normal_move(M,i,j,W,1,1,ans,l)\n",
        "     killing_move(M,i,j,W,1,1,ans,l)\n",
        "\n",
        " return ans "
      ],
      "metadata": {
        "id": "H-zemfdatU8V"
      },
      "execution_count": 9,
      "outputs": []
    },
    {
      "cell_type": "code",
      "source": [
        "def program_move_black(M,W):\n",
        " \n",
        " ans = np.zeros([8,8], dtype = int)\n",
        " l=[]\n",
        "\n",
        " for i in range(8):\n",
        "   for j in range(8):\n",
        "     if M[i][j]!=2 and M[i][j]!=4:\n",
        "       continue\n",
        "     normal_move(M,i,j,W,1,2,ans,l)\n",
        "     killing_move(M,i,j,W,1,2,ans,l)\n",
        "\n",
        " return ans "
      ],
      "metadata": {
        "id": "w3W5JgOUr1NF"
      },
      "execution_count": 10,
      "outputs": []
    },
    {
      "cell_type": "code",
      "source": [
        "def random_move(M):\n",
        "  ans = np.zeros([8,8], dtype = int)\n",
        "  l = []\n",
        "\n",
        "  for i in range(8):\n",
        "    for j in range(8):\n",
        "      if M[i][j]==2 or M[i][j]==4:\n",
        "        normal_move(M,i,j,W,-1,2,ans,l)\n",
        "        killing_move(M,i,j,W,-1,2,ans,l)\n",
        "  \n",
        "  return l"
      ],
      "metadata": {
        "id": "xYDc8fGbWDmX"
      },
      "execution_count": 11,
      "outputs": []
    },
    {
      "cell_type": "code",
      "source": [
        "def random_move_white(M):\n",
        "  ans = np.zeros([8,8], dtype = int)\n",
        "  l = []\n",
        "\n",
        "  for i in range(8):\n",
        "    for j in range(8):\n",
        "      if M[i][j]==1 or M[i][j]==3:\n",
        "        normal_move(M,i,j,W,-1,1,ans,l)\n",
        "        killing_move(M,i,j,W,-1,1,ans,l)\n",
        "  \n",
        "  return l"
      ],
      "metadata": {
        "id": "QC51dOe-rbR4"
      },
      "execution_count": 12,
      "outputs": []
    },
    {
      "cell_type": "code",
      "source": [
        "def update_weight(x1,x2,X,W):\n",
        "  alpha = 0.1\n",
        "\n",
        "  for i in range(7):\n",
        "    W[i] = W[i] + alpha*(x2 - x1)*X[i]"
      ],
      "metadata": {
        "id": "g1U6pFXCgu9l"
      },
      "execution_count": 13,
      "outputs": []
    },
    {
      "cell_type": "code",
      "source": [
        "def find_best(List):\n",
        "  ans = List[0]\n",
        "\n",
        "  for k in range(len(List)):\n",
        "    M = List[k]\n",
        "    x1 = total_score(W,ans)\n",
        "    x2 = total_score(W,M)\n",
        "\n",
        "    if x2 > x1 :\n",
        "      for i in range(8):\n",
        "        for j in range(8):\n",
        "          ans[i][j]=M[i][j]\n",
        "  return ans"
      ],
      "metadata": {
        "id": "lLmGzTzx3PSJ"
      },
      "execution_count": 14,
      "outputs": []
    },
    {
      "cell_type": "code",
      "source": [
        "import random as random\n",
        "# plays a single game until one finishes\n",
        "def play_game(M,W):\n",
        "  while 1 > 0 :\n",
        "    L=feature_list(M) #feature List stores values of x0 - x6 of intial state\n",
        "    score1=total_score(W,M)\n",
        "    next_move = program_move(M,W)\n",
        "    iszero = check_allzero(next_move)\n",
        "\n",
        "    if iszero == 1:\n",
        "      print(\"\\n 2 is winner \\n \",M)\n",
        "      update_weight(score1,-100,L,W)\n",
        "      return ;\n",
        "    \n",
        "    M = next_move\n",
        "    #print(\"\\n turn 1 \\n\",M)\n",
        "    move_list = random_move(M)\n",
        "\n",
        "    if len(move_list) == 0:\n",
        "      print(\"\\n 1 is winner \\n \",M)\n",
        "      update_weight(score1,100,L,W)\n",
        "      return ;\n",
        "\n",
        "    length = len(move_list);\n",
        "    x = random.randint(0,length-1)\n",
        "    #M = find_best(move_list)\n",
        "    M = move_list[x]\n",
        "    #print(\"\\n turn 2 \\n\",M)\n",
        "    score2 = total_score(W,M)\n",
        "    update_weight(score1,score2,L,W)\n",
        "    # print('changed weights ',score1,score2,' \\n',L,'\\n weight :',W,'\\n matrix is \\n',move_list)"
      ],
      "metadata": {
        "id": "uIMA3XQ9oiXr"
      },
      "execution_count": 17,
      "outputs": []
    },
    {
      "cell_type": "code",
      "source": [
        "import numpy as np\n",
        "\n",
        "#intialising the weights\n",
        "W = np.ones(7,dtype=float)\n",
        "\n",
        "#traing the data\n",
        "iter = 2\n",
        "\n",
        "for i in range(iter):\n",
        "  M = create_matrix()\n",
        "  print('weights : ',W,'\\n')\n",
        "  play_game(M,W)\n",
        "\n",
        "print(\"final weights : \",W)"
      ],
      "metadata": {
        "colab": {
          "base_uri": "https://localhost:8080/"
        },
        "id": "ZzLhKx9ERmUB",
        "outputId": "755fbc35-2dd3-48da-f4ab-8e7d52ec2a58"
      },
      "execution_count": 18,
      "outputs": [
        {
          "output_type": "stream",
          "name": "stdout",
          "text": [
            "weights :  [1. 1. 1. 1. 1. 1. 1.] \n",
            "\n",
            "\n",
            " 2 is winner \n",
            "  [[4 0 0 0 0 0 0 0]\n",
            " [0 0 0 0 0 0 0 0]\n",
            " [0 0 0 0 0 0 0 0]\n",
            " [0 0 0 0 0 0 0 0]\n",
            " [0 0 0 0 0 0 0 0]\n",
            " [0 0 0 0 0 0 0 0]\n",
            " [0 0 0 0 0 0 0 0]\n",
            " [0 0 0 0 0 0 0 4]]\n",
            "weights :  [ -9.3898279   -1.15518725   1.23772237   0.4376568  -20.1653195\n",
            "  -0.74320626   0.84061702] \n",
            "\n",
            "\n",
            " 1 is winner \n",
            "  [[0 0 0 0 0 0 0 0]\n",
            " [0 0 0 0 0 0 0 0]\n",
            " [0 0 0 0 0 0 0 0]\n",
            " [0 0 0 0 0 0 0 0]\n",
            " [0 0 0 0 0 0 0 0]\n",
            " [0 0 0 3 0 0 0 0]\n",
            " [0 0 1 0 0 0 0 0]\n",
            " [0 3 0 3 0 0 0 0]]\n",
            "final weights :  [ 2.00180564 11.86996231 -7.69216402 32.61014737 17.9766812  14.66161364\n",
            " -3.44357136]\n"
          ]
        }
      ]
    }
  ]
}