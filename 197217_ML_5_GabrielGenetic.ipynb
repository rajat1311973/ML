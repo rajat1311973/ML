{
  "nbformat": 4,
  "nbformat_minor": 0,
  "metadata": {
    "colab": {
      "provenance": []
    },
    "kernelspec": {
      "name": "python3",
      "display_name": "Python 3"
    },
    "language_info": {
      "name": "python"
    }
  },
  "cells": [
    {
      "cell_type": "code",
      "source": [
        "# importing the required modules\n",
        "import numpy as np"
      ],
      "metadata": {
        "id": "KY8hB1boU3oX"
      },
      "execution_count": 1,
      "outputs": []
    },
    {
      "cell_type": "code",
      "execution_count": 2,
      "metadata": {
        "id": "YUfQwWeIClnS"
      },
      "outputs": [],
      "source": [
        "#generating list of hypothesis binarystring\n",
        "def generateIpHypothesis(n):\n",
        "  l = []\n",
        "  for i in range(n):\n",
        "    s = ''\n",
        "    for j in range(12):\n",
        "      x = np.random.randint(100)\n",
        "      if x%2 == 0:\n",
        "        s = s + '0'\n",
        "      else :\n",
        "        s = s + '1'\n",
        "    l.append(s)\n",
        "  return l"
      ]
    },
    {
      "cell_type": "code",
      "source": [
        "#calcualte fitness score\n",
        "def fitness_function(s,x):\n",
        "  cnt = 0\n",
        "  for i in range(len(x)):\n",
        "    e_ip = x[i][0:2]\n",
        "    e_op = x[i][2:3]\n",
        "    for j in range(0,len(s),3):\n",
        "      t_ip = s[j:j+2]\n",
        "      t_op = s[j+2:j+3]\n",
        "\n",
        "      if e_ip == t_ip:\n",
        "        if e_op == t_op:\n",
        "          cnt = cnt + 1\n",
        "        break\n",
        "  correct = cnt/len(x)\n",
        "  return correct*correct\n"
      ],
      "metadata": {
        "id": "mKURQx9leEPE"
      },
      "execution_count": 3,
      "outputs": []
    },
    {
      "cell_type": "code",
      "source": [
        "#function gives max fitness\n",
        "def maxFitness(L,x):\n",
        "  cnt = 0\n",
        "  ans = []\n",
        "\n",
        "  for i in range(len(L)):\n",
        "    val = fitness_function(L[i],x)\n",
        "    if val > cnt :\n",
        "      cnt = val\n",
        "    ans.append((L[i],val))\n",
        "  ans.sort(key=lambda a: a[1],reverse = True)\n",
        "  return cnt , ans"
      ],
      "metadata": {
        "id": "zcNDIHCvePnJ"
      },
      "execution_count": 4,
      "outputs": []
    },
    {
      "cell_type": "code",
      "source": [
        "#perform crossover operation between 2 parents\n",
        "def crossover(s1,s2,l):\n",
        "  p1 = np.random.randint(0,l)\n",
        "  p2 = np.random.randint(0,l)\n",
        "  if p2 < p1 : \n",
        "    p1 , p2 = p2 , p1\n",
        "\n",
        "  c1 = s1[0:p1]+s2[p1:p2]+s1[p2:l]\n",
        "  c2 = s2[0:p1]+s1[p1:p2]+s2[p2:l]\n",
        "  #print('crossover ','\\n','parent : ',p1,p2,s1,' ',s2)\n",
        "  #print('children : ',c1,' ',c2)\n",
        "  return c1 , c2"
      ],
      "metadata": {
        "id": "sd83RVcnxyRe"
      },
      "execution_count": 5,
      "outputs": []
    },
    {
      "cell_type": "code",
      "source": [
        "#performing mutation of parent binary string\n",
        "def mutate(s,l):\n",
        "  x = np.random.randint(0,l)\n",
        "  temp = s\n",
        "  if s[x] == '0':\n",
        "    s = s[:x] + '1' + s[x+1:]\n",
        "  else :\n",
        "    s = s[:x] + '0' + s[x+1:]\n",
        "  #print(' mutation at bit ',x,'\\t',temp,'\\t',s)\n",
        "  return s"
      ],
      "metadata": {
        "id": "7sYk8YVgzgxb"
      },
      "execution_count": 6,
      "outputs": []
    },
    {
      "cell_type": "code",
      "source": [
        "import math\n",
        "#performing genetic algorithm until fitness reaches threshold value\n",
        "def geneticAlgorithm(h,fth,p,r,m,x):\n",
        "  #hypothesis space is h\n",
        "  #fth fitness threshold value\n",
        "  #p,r,m size of population , crossover rate , mutation rate\n",
        "  l = 12\n",
        "  cnt , ans = maxFitness(h,x)\n",
        "  itr = 0\n",
        "  while cnt < fth:\n",
        "    n = math.ceil(p*r)\n",
        "    m1 = p-n\n",
        "    L = []\n",
        "\n",
        "    for i in range(m1):\n",
        "      L.append(ans[i][0])\n",
        "    \n",
        "    for i in range(math.ceil(n/2)):\n",
        "      n1 = np.random.randint(n,p-1)\n",
        "      n2 = np.random.randint(n,p-1)\n",
        "      c1 , c2 = crossover(h[n1],h[n2],l)\n",
        "      L.append(c1)\n",
        "      L.append(c2)\n",
        "    \n",
        "    mno = math.ceil(p*m)\n",
        "    for i in range(mno):\n",
        "      no = np.random.randint(0,p-1)\n",
        "      mutate(L[no],l)\n",
        "    \n",
        "    h = L\n",
        "    cnt , ans = maxFitness(h,x)\n",
        "    itr = itr + 1\n",
        "    print('round ',itr,' max fitness ',cnt,'\\n','fitness score matrix \\n',ans)\n",
        "  return cnt , ans[0][0]\n"
      ],
      "metadata": {
        "id": "dGXQAcptz5Sm"
      },
      "execution_count": 7,
      "outputs": []
    },
    {
      "cell_type": "code",
      "source": [
        "n = 10 #no of hypothesis in population\n",
        "h = generateIpHypothesis(n)\n",
        "#training data\n",
        "x = ['000','011','101','110']\n",
        "print('intial hypothesis space ',h,'\\n')\n",
        "p = n #population size\n",
        "r = 0.6 # crossover rate\n",
        "m = 0.1 #mutation rate\n",
        "fth = 0.5625  #threshold fitness value\n",
        "ans , s = geneticAlgorithm(h,fth,p,r,m,x)\n",
        "print('best hypothesis string ',s)"
      ],
      "metadata": {
        "colab": {
          "base_uri": "https://localhost:8080/"
        },
        "id": "WFoxtN625zkl",
        "outputId": "88220d39-1a71-45c9-b69e-5e2190fc366f"
      },
      "execution_count": 8,
      "outputs": [
        {
          "output_type": "stream",
          "name": "stdout",
          "text": [
            "intial hypothesis space  ['111101110010', '010110110010', '000000010101', '001110010100', '110011001110', '000110011011', '000111010010', '011010110110', '011100110001', '010110010100'] \n",
            "\n",
            "best hypothesis string  000110011011\n"
          ]
        }
      ]
    }
  ]
}