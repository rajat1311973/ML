{
  "cells": [
    {
      "cell_type": "code",
      "execution_count": null,
      "metadata": {
        "id": "ec3a9502"
      },
      "outputs": [],
      "source": [
        "import random\n",
        "import numpy as np\n",
        "import math"
      ],
      "id": "ec3a9502"
    },
    {
      "cell_type": "code",
      "execution_count": null,
      "metadata": {
        "id": "5ba80d0d"
      },
      "outputs": [],
      "source": [
        "pop_size = 12\n",
        "# valid_genes = \"01\"\n",
        "length_of_chromosome = 8\n",
        "# no_of_training_rules=4\n",
        "# rule_len = 3"
      ],
      "id": "5ba80d0d"
    },
    {
      "cell_type": "code",
      "execution_count": 62,
      "metadata": {
        "id": "cd88f496"
      },
      "outputs": [],
      "source": [
        "def train(fitness_threshold, p,r,m):\n",
        "    population = initialise_population(p) #np array\n",
        "    print(\"initial population: \",population)\n",
        "    fitness = [int(compute_fitness(pop)) for pop in population ] #np \n",
        "    print(fitness)\n",
        "    max_fitness = (np.max(fitness))\n",
        "    prob = [fit/np.sum(fitness) for fit in fitness]\n",
        "    i=0\n",
        "    while(max_fitness <fitness_threshold):\n",
        "        #selection\n",
        "        new_pop = np.random.choice(population, size=int((1-r)*p), p = prob, replace=False)\n",
        "        print(new_pop)\n",
        "        offsprings = crossover(population, r,p,prob)\n",
        "        new_pop = np.append(new_pop, offsprings) #append\n",
        "        p = len(new_pop)\n",
        "        new_pop = mutate(new_pop, m,p)\n",
        "        population = new_pop #update\n",
        "        # print(\"population in itr \",i,\" : \",population)\n",
        "        fitness = [int(compute_fitness(pop)) for pop in population ]\n",
        "        max_fitness = (np.max(fitness))\n",
        "        prob = [fit/np.sum(fitness) for fit in fitness] #probabilities\n",
        "        print(\"max fitness in itr \",i,\" : \",max_fitness)\n",
        "        i=i+1\n",
        "    ind = np.argmax(fitness)\n",
        "    max_hypothesis = population[ind]\n",
        "    print(\"max_fitness: \",max_fitness)\n",
        "    return max_hypothesis,max_fitness"
      ],
      "id": "cd88f496"
    },
    {
      "cell_type": "code",
      "execution_count": 46,
      "metadata": {
        "id": "c5b62d56"
      },
      "outputs": [],
      "source": [
        "def initialise_population(p):\n",
        "    population=[]\n",
        "    for j in range(pop_size):\n",
        "        s=\"\"\n",
        "        for i in range(8):\n",
        "            temp = str(random.randint(1, 8))\n",
        "            s += temp\n",
        "        population.append(s)\n",
        "    return np.array(population)"
      ],
      "id": "c5b62d56"
    },
    {
      "cell_type": "code",
      "execution_count": null,
      "metadata": {
        "id": "6aca0da9"
      },
      "outputs": [],
      "source": [
        "def compute_fitness(pop):\n",
        "  score = 0\n",
        "  for row in range(len(pop)):\n",
        "    col = int(pop[row])\n",
        "    for other_row in range(len(pop)):\n",
        "      other_col = int(pop[other_row])\n",
        "      if row==other_row:\n",
        "        continue\n",
        "      if col==other_col:\n",
        "        continue\n",
        "      if other_col-col==other_row-row or other_col+col==other_row+row:\n",
        "        continue\n",
        "      score+=1\n",
        "  return score/2"
      ],
      "id": "6aca0da9"
    },
    {
      "cell_type": "code",
      "execution_count": null,
      "metadata": {
        "id": "d69a48cf"
      },
      "outputs": [],
      "source": [
        "  def crossover(pop,r,p,prob):\n",
        "    n= math.ceil((r*p)/2) #number of pairs\n",
        "    parents_chosen = np.random.choice(pop, size=n*2, p = prob, replace=False)\n",
        "    print(parents_chosen)\n",
        "    offsprings =[]\n",
        "    j=0\n",
        "    L = len(pop[0])\n",
        "    while(j <len(parents_chosen)):\n",
        "        parent1 = parents_chosen[j]\n",
        "        parent2 = parents_chosen[j+1]\n",
        "        # p1, p2 = gen_crossover_points(len(parent1)+0.99,1) # gabil's method\n",
        "        cross_point = np.random.randint(0,7)\n",
        "        os1 = parent1[0:cross_point] + parent2[cross_point:L]\n",
        "        os2 = parent2[0:cross_point] + parent1[cross_point:L]\n",
        "        offsprings.append(os1)\n",
        "        offsprings.append(os2)\n",
        "        j=j+2\n",
        "    return np.array(offsprings)"
      ],
      "id": "d69a48cf"
    },
    {
      "cell_type": "code",
      "execution_count": null,
      "metadata": {
        "id": "2a853c5c"
      },
      "outputs": [],
      "source": [
        "# def gen_crossover_points(hi,lo=1):\n",
        "#     pt1 = int(np.random.uniform(low=lo, high=hi))\n",
        "#     pt2 = int(np.random.uniform(low=lo, high=hi))\n",
        "#     while pt1 == pt2:\n",
        "#         pt2 = int(np.random.uniform(low=lo, high=hi))\n",
        "#     p1, p2 = min(pt1,pt2), max(pt1,pt2)\n",
        "#     return p1,p2"
      ],
      "id": "2a853c5c"
    },
    {
      "cell_type": "code",
      "execution_count": 48,
      "metadata": {
        "id": "3b1658e3"
      },
      "outputs": [],
      "source": [
        "def mutate(pop, m,p):\n",
        "    n = int(m*p)\n",
        "    to_mutate = np.random.choice(len(pop)-1, size=n, replace=False)\n",
        "    for p in to_mutate:\n",
        "        ch = pop[p]\n",
        "        temp = \"\"\n",
        "        k = np.random.randint(0,len(ch)-1)\n",
        "        temp+= ch[0:k]\n",
        "        temp+= str(np.random.randint(1,8))\n",
        "        temp+= ch[k+1:]\n",
        "        pop[p]= temp\n",
        "    return pop"
      ],
      "id": "3b1658e3"
    },
    {
      "cell_type": "code",
      "execution_count": 65,
      "metadata": {
        "colab": {
          "base_uri": "https://localhost:8080/"
        },
        "id": "dfd8da8c",
        "outputId": "5808cae9-124a-438d-cb3c-a70b346928cb"
      },
      "outputs": [
        {
          "output_type": "stream",
          "name": "stdout",
          "text": [
            "initial population:  ['25414575' '48752364' '73565882' '45486147' '46718567' '68657135'\n",
            " '38875341' '44485347' '34486871' '42368786' '44724178' '14682578']\n",
            "[17, 24, 22, 20, 21, 24, 24, 20, 22, 21, 20, 24]\n",
            "['44724178' '38875341' '46718567' '45486147' '44485347' '42368786'\n",
            " '68657135' '73565882']\n",
            "['38875341' '68657135' '34486871' '73565882']\n",
            "max fitness in itr  0  :  24\n",
            "['45486147' '73565882' '38875341' '73565882' '44724178' '46718267'\n",
            " '68657135' '42368786']\n",
            "['45486147' '68675321' '38875341' '38857135']\n",
            "max fitness in itr  1  :  24\n",
            "['38875341' '45486147' '42368786' '73565882' '68657135' '38857141'\n",
            " '45675321' '46718267']\n",
            "['38857141' '38875341' '44724178' '45675321']\n",
            "max fitness in itr  2  :  25\n",
            "['38875341' '45481147' '44675321' '46318267' '45724178' '38875341'\n",
            " '45675321' '68657135']\n",
            "['42368786' '45481147' '38875341' '45724178']\n",
            "max fitness in itr  3  :  25\n",
            "['38875341' '45724178' '46318267' '38875341' '42481247' '45481147'\n",
            " '75724178' '45368786']\n",
            "['38875341' '42481247' '45481147' '45368786']\n",
            "max fitness in itr  4  :  25\n",
            "['42481241' '38875347' '45724128' '38875341' '45481147' '46318267'\n",
            " '42481247' '75724178']\n",
            "['38875347' '42481241' '45724128' '75724178']\n",
            "max fitness in itr  5  :  25\n",
            "['38875341' '42481247' '45481147' '45724128' '38875347' '42481241'\n",
            " '75724178' '45724178']\n",
            "['46318767' '42481241' '42481247' '45724178']\n",
            "max fitness in itr  6  :  24\n",
            "['46318767' '45481147' '44481241' '38875341' '45721247' '42481241'\n",
            " '75724178' '45724128']\n",
            "['45724128' '75724178' '46318767' '45724178']\n",
            "max fitness in itr  7  :  24\n",
            "['45724128' '42481147' '45724767' '46318767' '75723178' '45721247'\n",
            " '45724178' '44481241']\n",
            "['44481241' '45724767' '45724178' '38875341']\n",
            "max fitness in itr  8  :  23\n",
            "['45424128' '45721247' '46318767' '24481767' '45724241' '38824178'\n",
            " '45775341' '45724178']\n",
            "['42481147' '44481241' '45724767' '75723178']\n",
            "max fitness in itr  9  :  23\n",
            "['38824178' '75723167' '44481241' '45721247' '46318767' '45775341'\n",
            " '45724241' '42481147']\n",
            "['45775341' '42481147' '45724241' '45721247']\n",
            "max fitness in itr  10  :  23\n",
            "['45721241' '42481147' '45724247' '45721247' '46311767' '45775341'\n",
            " '44481241' '38824178']\n",
            "['38824178' '45721247' '45775341' '42481147']\n",
            "max fitness in itr  11  :  23\n",
            "['48424178' '42475341' '45721247' '45775341' '44481241' '42481147'\n",
            " '45781147' '35721247']\n",
            "['42481147' '44481241' '45775341' '45721241']\n",
            "max fitness in itr  12  :  23\n",
            "['45775341' '42475341' '45721247' '48624178' '42481147' '44481147'\n",
            " '45781147' '45775341']\n",
            "['44481147' '45775341' '42481241' '45721241']\n",
            "max fitness in itr  13  :  23\n",
            "['42481147' '42475341' '45782147' '45775341' '45321247' '48624178'\n",
            " '45775341' '44481147']\n",
            "['48624178' '44481147' '45481241' '45775341']\n",
            "max fitness in itr  14  :  23\n",
            "['44481147' '42475341' '45321347' '42481147' '48481147' '45781241'\n",
            " '45782147' '45175341']\n",
            "['48624178' '45321347' '42481147' '45775341']\n",
            "max fitness in itr  15  :  25\n",
            "['42481141' '42481147' '45324178' '48481137' '45775347' '45321347'\n",
            " '45781241' '45742147']\n",
            "['48621347' '45775347' '45742147' '42481147']\n",
            "max fitness in itr  16  :  25\n",
            "['45775347' '48481137' '45324178' '42481141' '48621347' '42482147'\n",
            " '42481147' '45781241']\n",
            "['42481147' '45781241' '45741147' '42482147']\n",
            "max fitness in itr  17  :  25\n",
            "['45781241' '42481147' '45781241' '48481137' '42482147' '42481141'\n",
            " '42461147' '45741147']\n",
            "['42481147' '42461147' '45781241' '42485147']\n",
            "max fitness in itr  18  :  23\n",
            "['42461147' '45785147' '42481241' '45781241' '42481147' '42482147'\n",
            " '42461147' '42481147']\n",
            "['42481241' '45781241' '48481137' '42481141']\n",
            "max fitness in itr  19  :  24\n",
            "['45781241' '45781241' '42481241' '42461147' '42481137' '45745147'\n",
            " '42482147' '43481141']\n",
            "['42481137' '42461147' '42461147' '42482147']\n",
            "max fitness in itr  20  :  24\n",
            "['42481241' '42481137' '43481141' '42481147' '45781241' '42482147'\n",
            " '42461147' '42481137']\n",
            "['42481137' '45781241' '42481241' '42461147']\n",
            "max fitness in itr  21  :  24\n",
            "['43481141' '42481147' '42461241' '42461147' '42481137' '42452147'\n",
            " '42481137' '45782241']\n",
            "['42481147' '42481241' '42461241' '45781137']\n",
            "max fitness in itr  22  :  24\n",
            "['42461241' '42481147' '45461241' '42461147' '45785241' '42452147'\n",
            " '42781137' '42481137']\n",
            "['42481247' '42781137' '42481137' '42461147']\n",
            "max fitness in itr  23  :  24\n",
            "['45785641' '42481137' '45461241' '42452147' '42463147' '42481237'\n",
            " '42781147' '42481137']\n",
            "['45785641' '42481137' '42452147' '42481237']\n",
            "max fitness in itr  24  :  24\n",
            "['42451137' '42481237' '42781147' '42481237' '45785641' '42452147'\n",
            " '45785641' '42463147']\n",
            "['42481237' '42481137' '42481237' '45461241']\n",
            "max fitness in itr  25  :  25\n",
            "['45785641' '42781147' '42452147' '45461237' '42481137' '42481637'\n",
            " '42481237' '42463147']\n",
            "['45785641' '42463147' '42481237' '42452147']\n",
            "max fitness in itr  26  :  25\n",
            "['12481237' '42781147' '45785641' '42481637' '42463147' '45461237'\n",
            " '42463141' '42481137']\n",
            "['42481137' '42481237' '12481237' '45461237']\n",
            "max fitness in itr  27  :  25\n",
            "['42463141' '42481137' '42481637' '12481237' '45785241' '12481237'\n",
            " '42481237' '42481137']\n",
            "['42463147' '42481137' '42463141' '45785241']\n",
            "max fitness in itr  28  :  25\n",
            "['42481137' '45785241' '42463141' '42463147' '42481137' '42481237'\n",
            " '42481237' '12481237']\n",
            "['42481237' '42463147' '42481137' '42481637']\n",
            "max fitness in itr  29  :  25\n",
            "['42463147' '42481137' '52481637' '42481137' '42481137' '42481177'\n",
            " '12481237' '42481237']\n",
            "['42481237' '42481137' '12481237' '42481177']\n",
            "max fitness in itr  30  :  26\n",
            "max_fitness:  26\n",
            "52463147 26\n"
          ]
        }
      ],
      "source": [
        "hyp,fit = train(26, 12, 0.3, 0.2)\n",
        "print(hyp, fit)"
      ],
      "id": "dfd8da8c"
    },
    {
      "cell_type": "code",
      "execution_count": null,
      "metadata": {
        "id": "c76cd301"
      },
      "outputs": [],
      "source": [],
      "id": "c76cd301"
    }
  ],
  "metadata": {
    "colab": {
      "provenance": []
    },
    "kernelspec": {
      "display_name": "Python 3 (ipykernel)",
      "language": "python",
      "name": "python3"
    },
    "language_info": {
      "codemirror_mode": {
        "name": "ipython",
        "version": 3
      },
      "file_extension": ".py",
      "mimetype": "text/x-python",
      "name": "python",
      "nbconvert_exporter": "python",
      "pygments_lexer": "ipython3",
      "version": "3.9.7"
    }
  },
  "nbformat": 4,
  "nbformat_minor": 5
}