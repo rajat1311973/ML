{
  "nbformat": 4,
  "nbformat_minor": 0,
  "metadata": {
    "colab": {
      "provenance": []
    },
    "kernelspec": {
      "name": "python3",
      "display_name": "Python 3"
    },
    "language_info": {
      "name": "python"
    }
  },
  "cells": [
    {
      "cell_type": "code",
      "execution_count": 1,
      "metadata": {
        "colab": {
          "base_uri": "https://localhost:8080/"
        },
        "id": "hLubW2IVqEy8",
        "outputId": "94607810-5137-49e8-9fd3-270d30a69917"
      },
      "outputs": [
        {
          "output_type": "stream",
          "name": "stdout",
          "text": [
            "-1.5 [1 1]\n",
            "AND(0, 1) = 0\n",
            "AND(1, 1) = 1\n",
            "AND(0, 0) = 0\n",
            "AND(1, 0) = 0\n"
          ]
        }
      ],
      "source": [
        "import numpy as np\n",
        "  \n",
        "def signum(v):\n",
        "    if v > 0:\n",
        "        return 1\n",
        "    else:\n",
        "        return 0\n",
        "\n",
        "def perceptronModel(x, t, w, b, l):\n",
        "    v = np.dot(w, x) + b\n",
        "    y = signum(v)\n",
        "    b1=b+(l*(t-y))\n",
        "    w1=w\n",
        "    #print(x,t,y)\n",
        "    for i in range(0,len(w)):\n",
        "      w1[i]=w[i]+(l*(t-y)*x[i])\n",
        "    return w1,b1\n",
        "\n",
        "def AND_logicFunction_train(w1, b1, epochs, l):\n",
        "  w=w1\n",
        "  b=b1\n",
        "  for i in range(0,epochs):\n",
        "    #print(w,b)\n",
        "    w,b=perceptronModel([0,0], 0, w, b, l)\n",
        "    w,b=perceptronModel([0,1], 0, w, b, l)\n",
        "    w,b=perceptronModel([1,0], 0, w, b, l)\n",
        "    w,b=perceptronModel([1,1], 1, w, b, l)\n",
        "  return w,b\n",
        "\n",
        "def AND_logicFunction(x,w,b):\n",
        "    v = np.dot(w, x) + b\n",
        "    y = signum(v)\n",
        "    return y\n",
        "\n",
        "epochs=50 \n",
        "l=0.6  \n",
        "w = np.array([1, 1])\n",
        "b = -1.5\n",
        "w,b=AND_logicFunction_train(w, b, epochs, l)\n",
        "\n",
        "test1 = np.array([0, 1])\n",
        "test2 = np.array([1, 1])\n",
        "test3 = np.array([0, 0])\n",
        "test4 = np.array([1, 0])\n",
        "print(b,w)\n",
        "print(\"AND({}, {}) = {}\".format(0, 1, AND_logicFunction(test1,w,b)))\n",
        "print(\"AND({}, {}) = {}\".format(1, 1, AND_logicFunction(test2,w,b)))\n",
        "print(\"AND({}, {}) = {}\".format(0, 0, AND_logicFunction(test3,w,b)))\n",
        "print(\"AND({}, {}) = {}\".format(1, 0, AND_logicFunction(test4,w,b)))"
      ]
    },
    {
      "cell_type": "code",
      "source": [
        "import numpy as np\n",
        "  \n",
        "def signum(v):\n",
        "    if v > 0:\n",
        "        return 1\n",
        "    else:\n",
        "        return 0\n",
        "\n",
        "def perceptronModel(x, t, w, b, l):\n",
        "    v = np.dot(w, x) + b\n",
        "    y = signum(v)\n",
        "    b1=b+(l*(t-y))\n",
        "    w1=w\n",
        "    #print(x,t,y)\n",
        "    for i in range(0,len(w)):\n",
        "      w1[i]=w[i]+(l*(t-y)*x[i])\n",
        "    return w1,b1\n",
        "\n",
        "def OR_logicFunction_train(w1, b1, epochs, l):\n",
        "  w=w1\n",
        "  b=b1\n",
        "  for i in range(0,epochs):\n",
        "    #print(w,b)\n",
        "    w,b=perceptronModel([0,0], 0, w, b, l)\n",
        "    w,b=perceptronModel([0,1], 1, w, b, l)\n",
        "    w,b=perceptronModel([1,0], 1, w, b, l)\n",
        "    w,b=perceptronModel([1,1], 1, w, b, l)\n",
        "  return w,b\n",
        "\n",
        "def OR_logicFunction(x,w,b):\n",
        "    v = np.dot(w, x) + b\n",
        "    y = signum(v)\n",
        "    return y\n",
        "\n",
        "epochs=50 \n",
        "l=0.6  \n",
        "w = np.array([1, 1])\n",
        "b = -1.5\n",
        "w,b=OR_logicFunction_train(w, b, epochs, l)\n",
        "\n",
        "test1 = np.array([0, 1])\n",
        "test2 = np.array([1, 1])\n",
        "test3 = np.array([0, 0])\n",
        "test4 = np.array([1, 0])\n",
        "print(b,w)  \n",
        "print(\"OR({}, {}) = {}\".format(0, 1, OR_logicFunction(test1,w,b)))\n",
        "print(\"OR({}, {}) = {}\".format(1, 1, OR_logicFunction(test2,w,b)))\n",
        "print(\"OR({}, {}) = {}\".format(0, 0, OR_logicFunction(test3,w,b)))\n",
        "print(\"OR({}, {}) = {}\".format(1, 0, OR_logicFunction(test4,w,b)))"
      ],
      "metadata": {
        "colab": {
          "base_uri": "https://localhost:8080/"
        },
        "id": "c5IWyROFqSAx",
        "outputId": "4cf568eb-f73d-40c2-ade9-8f20a20468d3"
      },
      "execution_count": 2,
      "outputs": [
        {
          "output_type": "stream",
          "name": "stdout",
          "text": [
            "-0.9 [1 1]\n",
            "OR(0, 1) = 1\n",
            "OR(1, 1) = 1\n",
            "OR(0, 0) = 0\n",
            "OR(1, 0) = 1\n"
          ]
        }
      ]
    },
    {
      "cell_type": "code",
      "source": [
        "import numpy as np\n",
        "  \n",
        "def signum(v):\n",
        "    if v > 0:\n",
        "        return 1\n",
        "    else:\n",
        "        return 0\n",
        "\n",
        "def perceptronModel(x, t, w, b, l):\n",
        "    v = np.dot(w, x) + b\n",
        "    y = signum(v)\n",
        "    b1=b+(l*(t-y))\n",
        "    w1=w\n",
        "    #print(x,t,y)\n",
        "    for i in range(0,len(w)):\n",
        "      w1[i]=w[i]+(l*(t-y)*x[i])\n",
        "    return w1,b1\n",
        "\n",
        "def XOR_logicFunction_train(w1, b1, epochs, l):\n",
        "  w=w1\n",
        "  b=b1\n",
        "  for i in range(0,epochs):\n",
        "    #print(w,b)\n",
        "    w,b=perceptronModel([0,0], 0, w, b, l)\n",
        "    w,b=perceptronModel([0,1], 1, w, b, l)\n",
        "    w,b=perceptronModel([1,0], 1, w, b, l)\n",
        "    w,b=perceptronModel([1,1], 0, w, b, l)\n",
        "  return w,b\n",
        "\n",
        "def XOR_logicFunction(x,w,b):\n",
        "    v = np.dot(w, x) + b\n",
        "    y = signum(v)\n",
        "    return y\n",
        "\n",
        "epochs=50\n",
        "l=0.2\n",
        "w = np.array([1,1])\n",
        "b = -1.5\n",
        "w,b=OR_logicFunction_train(w, b, epochs, l)\n",
        "\n",
        "test1 = np.array([0, 1])\n",
        "test2 = np.array([1, 1])\n",
        "test3 = np.array([0, 0])\n",
        "test4 = np.array([1, 0])\n",
        "print(b,w)\n",
        "print(\"XOR({}, {}) = {}\".format(0, 1, OR_logicFunction(test1,w,b)))\n",
        "print(\"XOR({}, {}) = {}\".format(1, 1, OR_logicFunction(test2,w,b)))\n",
        "print(\"XOR({}, {}) = {}\".format(0, 0, OR_logicFunction(test3,w,b)))\n",
        "print(\"XOR({}, {}) = {}\".format(1, 0, OR_logicFunction(test4,w,b)))"
      ],
      "metadata": {
        "colab": {
          "base_uri": "https://localhost:8080/"
        },
        "id": "a2Dzr-7PqVTY",
        "outputId": "a92717f9-f064-425b-8077-eba2db4b29ca"
      },
      "execution_count": 3,
      "outputs": [
        {
          "output_type": "stream",
          "name": "stdout",
          "text": [
            "-0.9000000000000001 [1 1]\n",
            "XOR(0, 1) = 1\n",
            "XOR(1, 1) = 1\n",
            "XOR(0, 0) = 0\n",
            "XOR(1, 0) = 1\n"
          ]
        }
      ]
    }
  ]
}