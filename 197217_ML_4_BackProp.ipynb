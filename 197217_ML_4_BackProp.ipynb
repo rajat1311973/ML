{
  "cells": [
    {
      "cell_type": "markdown",
      "metadata": {
        "id": "S2giC7be4TF5"
      },
      "source": [
        "## *Artificial Neutral networks with Back Propogation *\n"
      ]
    },
    {
      "cell_type": "code",
      "execution_count": 1,
      "metadata": {
        "id": "khgxgafm4TF-"
      },
      "outputs": [],
      "source": [
        "# import libraries\n",
        "import numpy as np \n",
        "import pandas as pd \n",
        "import matplotlib.pyplot as plt \n",
        "from tqdm import tqdm"
      ]
    },
    {
      "cell_type": "code",
      "execution_count": 2,
      "metadata": {
        "id": "7M35lkZy4TGC"
      },
      "outputs": [],
      "source": [
        "# defining utility functions\n",
        "\n",
        "def sigmoid(x):\n",
        "    '''Sigmoid is used as a activation function after output.'''\n",
        "    return 1 / (1 + np.exp(-x))\n",
        "\n",
        "\n",
        "def predict(X, y, w1, w2, verbose=False, bias=True, show_all=False):\n",
        "    '''Predict the output'''\n",
        "    y_pred = [] \n",
        "    \n",
        "    # iterating through each input\n",
        "    for x in X:\n",
        "        h = sigmoid(x.dot(w1.T))\n",
        "        if (bias):\n",
        "            temp_h = np.append(np.ones(1), h)\n",
        "        else:\n",
        "            temp_h = h\n",
        "        o = sigmoid(temp_h.dot(w2.T))\n",
        "        \n",
        "        # storing the output of each input\n",
        "        y_pred.append(o)\n",
        "\n",
        "    y = np.argmax(y, axis=1)\n",
        "    y_pred = np.argmax(y_pred, axis=1)\n",
        "                \n",
        "    # for debugging print the labels for all pictures\n",
        "    if show_all:\n",
        "        for idx,x in enumerate(X):\n",
        "            print(f\"Predicted => {y_pred[idx]}, Actual => {y[idx]}\")\n",
        "            plt.imshow(x.reshape(28,28))\n",
        "            plt.show()\n",
        "    \n",
        "    # calculate and return accuracy - this is why we had to reconvert back from OH format\n",
        "    accuracy = np.mean(y_pred==y)\n",
        "    if (verbose):\n",
        "        print(f\"Accuracy => {accuracy*100}\")\n",
        "    return accuracy"
      ]
    },
    {
      "cell_type": "code",
      "execution_count": 3,
      "metadata": {
        "id": "f1Sbmjm94TGE"
      },
      "outputs": [],
      "source": [
        "def backprop(X, Y, n_hid, lr = 0.2,w_init=None,w_scale=1,n_iters=1, batch=False,bias=True):\n",
        "    if bias:\n",
        "        # append ones col to X\n",
        "        ones_col = np.ones((X.shape[0],1))\n",
        "        X = np.concatenate((ones_col,X), axis=1)\n",
        "    \n",
        "    # bias_int is integer version of boolean bias\n",
        "    bias_int = 1 if bias else 0 # add 1 to weigt dimension if bias is needed\n",
        "    \n",
        "    # create weights - if no init given, we randomise to v small values\n",
        "    if w_init is not None:\n",
        "        w1 = np.ones((n_hid,X.shape[1])) * w_init\n",
        "        w2 = np.ones((Y.shape[1],n_hid+bias_int)) * w_init\n",
        "    else:\n",
        "        w1 = np.random.uniform(size=(n_hid,X.shape[1])) / w_scale\n",
        "        w2 = np.random.uniform(size=(Y.shape[1],n_hid+bias_int)) / w_scale\n",
        "            \n",
        "    # lists to store histories\n",
        "    history_w1 = [] \n",
        "    history_w2 = []\n",
        "    accuracies = []\n",
        "    \n",
        "    # loop over number of iterations\n",
        "    for i in tqdm(range(n_iters)):\n",
        "        \n",
        "        # for each training example \n",
        "        for idx, (x,y) in enumerate(zip(X,Y)):\n",
        "            ### FORWARD PASS\n",
        "            h = sigmoid(x.dot(w1.T))\n",
        "            if bias:\n",
        "                temp_h = np.append(np.ones(1), h) # becuase we dont want to add a bias term to h itself\n",
        "            else:\n",
        "                temp_h = h\n",
        "            o = sigmoid(temp_h.dot(w2.T))\n",
        "            \n",
        "            ### BACKWARD PASS\n",
        "            do = o*(1-o)*(y-o)\n",
        "            dh = h * (1-h) * do.dot(w2[:,bias_int:]) # skip bias dim if it exists\n",
        "            \n",
        "            ### WEIGHT CHANGES\n",
        "            dw2 = lr * do.reshape(-1,1) * temp_h\n",
        "            dw1 = lr * dh.reshape(-1,1) *(x) \n",
        "\n",
        "            # store deltas if batch update required\n",
        "            if batch == True:\n",
        "                history_w1.append(dw1)\n",
        "                history_w2.append(dw2)\n",
        "            \n",
        "            # otherwise stochastic update -> update here\n",
        "            else:\n",
        "                ### WEIGHT UPDATES\n",
        "                w2 += dw2\n",
        "                w1 += dw1\n",
        "                \n",
        "        # for bacth update -> update here\n",
        "        if batch is True:\n",
        "            ### WEIGHT UPDATES\n",
        "            w2 += sum(history_w2)\n",
        "            w1 += sum(history_w1)\n",
        "\n",
        "        # Check accuracy while training\n",
        "        accuracies.append(predict(X,Y,w1,w2,verbose=False,bias=bias))\n",
        "        \n",
        "    return w1, w2, accuracies"
      ]
    },
    {
      "cell_type": "markdown",
      "metadata": {
        "id": "N8kyUz8F4TGG"
      },
      "source": [
        "### 1. Handwritten digit recognition"
      ]
    },
    {
      "cell_type": "code",
      "execution_count": 4,
      "metadata": {
        "scrolled": true,
        "id": "VkkcbMMt4TGH",
        "colab": {
          "base_uri": "https://localhost:8080/"
        },
        "outputId": "67ab1795-8cfd-459a-85f9-0922a4ef978f"
      },
      "outputs": [
        {
          "output_type": "stream",
          "name": "stdout",
          "text": [
            "Downloading data from https://storage.googleapis.com/tensorflow/tf-keras-datasets/mnist.npz\n",
            "11490434/11490434 [==============================] - 0s 0us/step\n"
          ]
        }
      ],
      "source": [
        "from tensorflow.keras.datasets import mnist\n",
        "\n",
        "# loading dataset\n",
        "(X_train, Y_train), (X_test, Y_test) = mnist.load_data()\n",
        "\n",
        "num_train = 1000\n",
        "num_test = 100\n",
        "\n",
        "X_train = X_train[:num_train]\n",
        "Y_train = Y_train[:num_train]\n",
        "X_test = X_test[:num_test]\n",
        "Y_test = Y_test[:num_test]\n",
        "\n",
        "\n",
        "# Convert y vectors to one hot vectors for our network to work\n",
        "Y_train_OH = np.zeros((Y_train.size, Y_train.max()+1))\n",
        "Y_train_OH[np.arange(Y_train.size),Y_train] = 1\n",
        "\n",
        "Y_test_OH = np.zeros((Y_test.size, Y_test.max()+1))\n",
        "Y_test_OH[np.arange(Y_test.size),Y_test] = 1\n",
        "\n",
        "# flatten X and bring into [0,1] range\n",
        "X_train = X_train.reshape(X_train.shape[0],-1) / 255\n",
        "X_test = X_test.reshape(X_test.shape[0],-1) / 255"
      ]
    },
    {
      "cell_type": "code",
      "execution_count": 5,
      "metadata": {
        "scrolled": false,
        "colab": {
          "base_uri": "https://localhost:8080/",
          "height": 482
        },
        "id": "weFlT4VG4TGH",
        "outputId": "9860abfc-c5fc-4b67-e647-00c071906d45"
      },
      "outputs": [
        {
          "output_type": "display_data",
          "data": {
            "text/plain": [
              "<Figure size 576x576 with 16 Axes>"
            ],
            "image/png": "[encoded data removed]"
          },
          "metadata": {
            "needs_background": "light"
          }
        }
      ],
      "source": [
        "# Visualisation\n",
        "plt.figure(figsize=(8,8))\n",
        "for i in range(16):\n",
        "    plt.subplot(4,4,i+1)\n",
        "    plt.axis('off')\n",
        "    r = np.random.randint(X_train.shape[0])   # get a random image to show\n",
        "    plt.title('True Label: '+str(Y_train[r])) # show its label as title\n",
        "    plt.imshow(X_train[r].reshape(28,28), cmap='inferno')    # plot the image\n",
        "plt.show()"
      ]
    },
    {
      "cell_type": "code",
      "execution_count": 6,
      "metadata": {
        "scrolled": false,
        "colab": {
          "base_uri": "https://localhost:8080/",
          "height": 347
        },
        "id": "w9pU7AIy4TGI",
        "outputId": "426953ed-4696-4afe-fb67-9827ff2fea4c"
      },
      "outputs": [
        {
          "output_type": "stream",
          "name": "stderr",
          "text": [
            "100%|██████████| 500/500 [02:01<00:00,  4.12it/s]\n"
          ]
        },
        {
          "output_type": "display_data",
          "data": {
            "text/plain": [
              "<Figure size 432x288 with 1 Axes>"
            ],
            "image/png": "[encoded data removed]"
          },
          "metadata": {
            "needs_background": "light"
          }
        },
        {
          "output_type": "stream",
          "name": "stdout",
          "text": [
            "Highest Train accuracy => 0.983\n",
            "Test Accuracy => 0.85\n"
          ]
        }
      ],
      "source": [
        "# Hyperparameters\n",
        "w_init = None                 # number of hidden units\n",
        "w_scale = 10                  # value to divide the random w values with\n",
        "n_hid = 100                   # number of hidden units\n",
        "lr = 0.01                     # learning rate\n",
        "n_iters = 500                   # number of iterations / epochs\n",
        "batch = False                 # if true, algo uses batch update.\n",
        "bias = False                  # dont add bias dimension\n",
        "\n",
        "# call backprop function to train\n",
        "# here our network is 784 (28*28) input units, 100 hidden units, and 10 output units\n",
        "# the output is in OH format\n",
        "w1,w2,accuracies = backprop(X_train,Y_train_OH,n_hid,lr,w_init,w_scale,n_iters,batch,bias)\n",
        "\n",
        "# print highest accuracy and display history\n",
        "epochs = np.arange(1, len(accuracies)+1)\n",
        "plt.plot(epochs, accuracies, c='purple')\n",
        "plt.title('Train Accuracy History')\n",
        "plt.xlabel('Iterations')\n",
        "plt.show()\n",
        "print(f\"Highest Train accuracy => {max(accuracies)}\")\n",
        "\n",
        "# check accuracy on seperate test set\n",
        "test_acc = predict(X_test,Y_test_OH,w1,w2,bias=False,verbose=False,show_all=False)\n",
        "print(f\"Test Accuracy => {test_acc}\")\n",
        "\n",
        "# there is some level of overfitting happening here as seen by \n",
        "# the large difference in accuracies"
      ]
    }
  ],
  "metadata": {
    "kernelspec": {
      "display_name": "Python 3",
      "language": "python",
      "name": "python3"
    },
    "language_info": {
      "codemirror_mode": {
        "name": "ipython",
        "version": 3
      },
      "file_extension": ".py",
      "mimetype": "text/x-python",
      "name": "python",
      "nbconvert_exporter": "python",
      "pygments_lexer": "ipython3",
      "version": "3.8.1"
    },
    "colab": {
      "provenance": []
    }
  },
  "nbformat": 4,
  "nbformat_minor": 0
}