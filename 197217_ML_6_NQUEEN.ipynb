{
  "nbformat": 4,
  "nbformat_minor": 0,
  "metadata": {
    "colab": {
      "provenance": []
    },
    "kernelspec": {
      "name": "python3",
      "display_name": "Python 3"
    },
    "language_info": {
      "name": "python"
    }
  },
  "cells": [
    {
      "cell_type": "markdown",
      "source": [
        "### **Implementing N Queens using Genetic Algorithm**"
      ],
      "metadata": {
        "id": "560GWqMuOAF0"
      }
    },
    {
      "cell_type": "code",
      "source": [
        "import random\n",
        "import matplotlib.pyplot as plt"
      ],
      "metadata": {
        "id": "L8dLW4uzOAk3"
      },
      "execution_count": 1,
      "outputs": []
    },
    {
      "cell_type": "code",
      "source": [
        "n = 8                          #Number of Queens\n",
        "p = 500                        #Number of Population\n",
        "current_generation = []        #Current Generation\n",
        "new_generation = []            #New Generation"
      ],
      "metadata": {
        "id": "SxTzyfD1MaOS"
      },
      "execution_count": 2,
      "outputs": []
    },
    {
      "cell_type": "code",
      "source": [
        "# Randomly positioning the queen in the 8X8 board\n",
        "def randomGeneration(NumberOfRows,NumberOfQueens):\n",
        "    generation_list = []\n",
        "    for i in range(NumberOfRows):\n",
        "        gene = []\n",
        "        for j in range(NumberOfQueens):\n",
        "            gene.append(random.randint(1,n))\n",
        "        gene.append(0)\n",
        "        generation_list.append(gene)\n",
        "    return generation_list"
      ],
      "metadata": {
        "id": "5Lsc9AZUMcuv"
      },
      "execution_count": 3,
      "outputs": []
    },
    {
      "cell_type": "code",
      "source": [
        "def fitness(population_list):\n",
        "    i = 0\n",
        "    conflict = 0\n",
        "    while i < len(population_list):\n",
        "        j = 0\n",
        "        conflict = 0\n",
        "        while j < n:\n",
        "            l = j+1\n",
        "\n",
        "            while l < n:\n",
        "                if population_list[i][j] == population_list[i][l]:\n",
        "                    conflict+=1\n",
        "                if abs(j-l)==abs(population_list[i][j]-population_list[i][l]):\n",
        "                    conflict+=1\n",
        "                l+=1\n",
        "            j+=1\n",
        "        population_list[i][len(population_list[j])-1]=conflict\n",
        "        i+=1\n",
        "        \n",
        "    for i in range(len(population_list)):\n",
        "        min = i\n",
        "        for j in range(i,len(population_list)):\n",
        "            if population_list[j][n]<population_list[min][n]:\n",
        "                min = j\n",
        "        temp =  population_list[i]\n",
        "        population_list[i] = population_list[min]\n",
        "        population_list[min] = temp\n",
        "    return population_list"
      ],
      "metadata": {
        "id": "8eXR2ReDMfq8"
      },
      "execution_count": 4,
      "outputs": []
    },
    {
      "cell_type": "code",
      "source": [
        "#cross over\n",
        "def cross_over(generation_list):\n",
        "    for i in range(0,len(generation_list),2):\n",
        "        z = 0\n",
        "        new_kid1 = []\n",
        "        new_kid2 = []\n",
        "        while z<n:\n",
        "            if(z<n//2):\n",
        "                new_kid1.append(generation_list[i][z])\n",
        "                new_kid2.append(generation_list[i+1][z])\n",
        "            else:\n",
        "                new_kid1.append(generation_list[i+1][z])\n",
        "                new_kid2.append(generation_list[i][z])\n",
        "            z+=1\n",
        "        new_kid1.append(0)\n",
        "        new_kid2.append(0)\n",
        "        generation_list.append(new_kid1)\n",
        "        generation_list.append(new_kid2)\n",
        "    return generation_list"
      ],
      "metadata": {
        "id": "j31ZL4xpMk_B"
      },
      "execution_count": 5,
      "outputs": []
    },
    {
      "cell_type": "code",
      "source": [
        "# mutation\n",
        "def mutation(generation_list):\n",
        "    muted_list=[]\n",
        "    i = 0\n",
        "    while i<p//2:\n",
        "        new_rand = random.randint(p//2,p-1)\n",
        "        if new_rand not in muted_list:\n",
        "            muted_list.append(new_rand)\n",
        "            generation_list[new_rand][random.randint(0,n-1)]=random.randint(1,n-1)\n",
        "            #print(\"Muted:\",new_rand)\n",
        "            i+=1\n",
        "    return generation_list"
      ],
      "metadata": {
        "id": "AkWvTQ63MliR"
      },
      "execution_count": 6,
      "outputs": []
    },
    {
      "cell_type": "code",
      "source": [
        "def showRes(res):\n",
        "    l = len(res)\n",
        "    plt.figure(figsize=(6, 6))\n",
        "    plt.scatter([x+1 for x in range(l - 1)], res[:l - 1])\n",
        "    for i in range(l):\n",
        "        plt.plot([0.5, l - 0.5], [i + 0.5, i + 0.5], color = \"k\")\n",
        "        plt.plot([i + 0.5, i + 0.5], [0.5, l - 0.5], color = \"k\")"
      ],
      "metadata": {
        "id": "qwbnc9oLMoG7"
      },
      "execution_count": 7,
      "outputs": []
    },
    {
      "cell_type": "code",
      "source": [
        "current_generation = randomGeneration(p,n)\n",
        "current_generation = fitness(current_generation)\n",
        "epoch = 1\n",
        "while True:\n",
        "    print(\"-------------------------------------------------------\")\n",
        "    print(\"Epoch \",epoch)\n",
        "    current_generation = current_generation[0:p//2]\n",
        "    new_generation = cross_over(current_generation)\n",
        "    new_generation = mutation(new_generation)\n",
        "    current_generation = new_generation\n",
        "    current_generation = fitness(current_generation)\n",
        "    if current_generation[0][n] == 0:\n",
        "        print(\"Solution Found: \", current_generation[0])\n",
        "        showRes(current_generation[0])\n",
        "        break\n",
        "    else:\n",
        "        print(\"Best Solution: \", current_generation[0])\n",
        "    epoch+=1"
      ],
      "metadata": {
        "colab": {
          "base_uri": "https://localhost:8080/",
          "height": 1000
        },
        "id": "ACPYWhOMMrOo",
        "outputId": "22d90cc3-7853-429a-ed2b-f29a998e2e02"
      },
      "execution_count": 8,
      "outputs": [
        {
          "output_type": "stream",
          "name": "stdout",
          "text": [
            "-------------------------------------------------------\n",
            "Epoch  1\n",
            "Best Solution:  [2, 6, 1, 3, 8, 1, 7, 4, 2]\n",
            "-------------------------------------------------------\n",
            "Epoch  2\n",
            "Best Solution:  [3, 8, 2, 7, 4, 6, 1, 5, 1]\n",
            "-------------------------------------------------------\n",
            "Epoch  3\n",
            "Best Solution:  [3, 8, 2, 7, 4, 6, 1, 5, 1]\n",
            "-------------------------------------------------------\n",
            "Epoch  4\n",
            "Best Solution:  [3, 8, 2, 7, 4, 6, 1, 5, 1]\n",
            "-------------------------------------------------------\n",
            "Epoch  5\n",
            "Best Solution:  [3, 8, 2, 7, 4, 6, 1, 5, 1]\n",
            "-------------------------------------------------------\n",
            "Epoch  6\n",
            "Best Solution:  [3, 8, 2, 7, 4, 6, 1, 5, 1]\n",
            "-------------------------------------------------------\n",
            "Epoch  7\n",
            "Best Solution:  [3, 8, 2, 7, 4, 6, 1, 5, 1]\n",
            "-------------------------------------------------------\n",
            "Epoch  8\n",
            "Best Solution:  [3, 8, 2, 7, 4, 6, 1, 5, 1]\n",
            "-------------------------------------------------------\n",
            "Epoch  9\n",
            "Best Solution:  [3, 8, 2, 7, 4, 6, 1, 5, 1]\n",
            "-------------------------------------------------------\n",
            "Epoch  10\n",
            "Best Solution:  [3, 8, 2, 7, 4, 6, 1, 5, 1]\n",
            "-------------------------------------------------------\n",
            "Epoch  11\n",
            "Best Solution:  [3, 8, 2, 7, 4, 6, 1, 5, 1]\n",
            "-------------------------------------------------------\n",
            "Epoch  12\n",
            "Best Solution:  [3, 8, 2, 7, 4, 6, 1, 5, 1]\n",
            "-------------------------------------------------------\n",
            "Epoch  13\n",
            "Best Solution:  [3, 8, 2, 7, 4, 6, 1, 5, 1]\n",
            "-------------------------------------------------------\n",
            "Epoch  14\n",
            "Best Solution:  [3, 8, 2, 7, 4, 6, 1, 5, 1]\n",
            "-------------------------------------------------------\n",
            "Epoch  15\n",
            "Best Solution:  [3, 8, 2, 7, 4, 6, 1, 5, 1]\n",
            "-------------------------------------------------------\n",
            "Epoch  16\n",
            "Best Solution:  [3, 8, 2, 7, 4, 6, 1, 5, 1]\n",
            "-------------------------------------------------------\n",
            "Epoch  17\n",
            "Best Solution:  [3, 8, 2, 7, 4, 6, 1, 5, 1]\n",
            "-------------------------------------------------------\n",
            "Epoch  18\n",
            "Best Solution:  [3, 8, 2, 7, 4, 6, 1, 5, 1]\n",
            "-------------------------------------------------------\n",
            "Epoch  19\n",
            "Best Solution:  [3, 8, 2, 7, 4, 6, 1, 5, 1]\n",
            "-------------------------------------------------------\n",
            "Epoch  20\n",
            "Best Solution:  [3, 8, 2, 7, 4, 6, 1, 5, 1]\n",
            "-------------------------------------------------------\n",
            "Epoch  21\n",
            "Best Solution:  [3, 8, 2, 7, 4, 6, 1, 5, 1]\n",
            "-------------------------------------------------------\n",
            "Epoch  22\n",
            "Best Solution:  [3, 8, 2, 7, 4, 6, 1, 5, 1]\n",
            "-------------------------------------------------------\n",
            "Epoch  23\n",
            "Best Solution:  [3, 8, 2, 7, 4, 6, 1, 5, 1]\n",
            "-------------------------------------------------------\n",
            "Epoch  24\n",
            "Best Solution:  [3, 8, 2, 7, 4, 6, 1, 5, 1]\n",
            "-------------------------------------------------------\n",
            "Epoch  25\n",
            "Best Solution:  [3, 8, 2, 7, 4, 6, 1, 5, 1]\n",
            "-------------------------------------------------------\n",
            "Epoch  26\n",
            "Best Solution:  [3, 8, 2, 7, 4, 6, 1, 5, 1]\n",
            "-------------------------------------------------------\n",
            "Epoch  27\n",
            "Best Solution:  [3, 8, 2, 7, 4, 6, 1, 5, 1]\n",
            "-------------------------------------------------------\n",
            "Epoch  28\n",
            "Best Solution:  [3, 8, 2, 7, 4, 6, 1, 5, 1]\n",
            "-------------------------------------------------------\n",
            "Epoch  29\n",
            "Best Solution:  [3, 8, 2, 7, 4, 6, 1, 5, 1]\n",
            "-------------------------------------------------------\n",
            "Epoch  30\n",
            "Best Solution:  [3, 8, 2, 7, 4, 6, 1, 5, 1]\n",
            "-------------------------------------------------------\n",
            "Epoch  31\n",
            "Best Solution:  [3, 8, 2, 7, 4, 6, 1, 5, 1]\n",
            "-------------------------------------------------------\n",
            "Epoch  32\n",
            "Best Solution:  [3, 8, 2, 7, 4, 6, 1, 5, 1]\n",
            "-------------------------------------------------------\n",
            "Epoch  33\n",
            "Best Solution:  [3, 8, 2, 7, 4, 6, 1, 5, 1]\n",
            "-------------------------------------------------------\n",
            "Epoch  34\n",
            "Best Solution:  [3, 8, 2, 7, 4, 6, 1, 5, 1]\n",
            "-------------------------------------------------------\n",
            "Epoch  35\n",
            "Best Solution:  [3, 8, 2, 7, 4, 6, 1, 5, 1]\n",
            "-------------------------------------------------------\n",
            "Epoch  36\n",
            "Best Solution:  [3, 8, 2, 7, 4, 6, 1, 5, 1]\n",
            "-------------------------------------------------------\n",
            "Epoch  37\n",
            "Best Solution:  [3, 8, 2, 7, 4, 6, 1, 5, 1]\n",
            "-------------------------------------------------------\n",
            "Epoch  38\n",
            "Best Solution:  [3, 8, 2, 7, 4, 6, 1, 5, 1]\n",
            "-------------------------------------------------------\n",
            "Epoch  39\n",
            "Best Solution:  [3, 8, 2, 7, 4, 6, 1, 5, 1]\n",
            "-------------------------------------------------------\n",
            "Epoch  40\n",
            "Best Solution:  [3, 8, 2, 7, 4, 6, 1, 5, 1]\n",
            "-------------------------------------------------------\n",
            "Epoch  41\n",
            "Best Solution:  [3, 8, 2, 7, 4, 6, 1, 5, 1]\n",
            "-------------------------------------------------------\n",
            "Epoch  42\n",
            "Best Solution:  [3, 8, 2, 7, 4, 6, 1, 5, 1]\n",
            "-------------------------------------------------------\n",
            "Epoch  43\n",
            "Solution Found:  [6, 3, 1, 7, 5, 8, 2, 4, 0]\n"
          ]
        },
        {
          "output_type": "display_data",
          "data": {
            "text/plain": [
              "<Figure size 432x432 with 1 Axes>"
            ],
            "image/png": "[encoded data removed]"
          },
          "metadata": {
            "needs_background": "light"
          }
        }
      ]
    }
  ]
}